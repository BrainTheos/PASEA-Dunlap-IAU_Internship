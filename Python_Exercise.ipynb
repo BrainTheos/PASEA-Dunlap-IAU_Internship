{
 "cells": [
  {
   "cell_type": "markdown",
   "metadata": {},
   "source": [
    "# When Does The Moon Rise in Accra, Ghana on 2020-10-20\n",
    "\n",
    "## Authors: \n",
    "Jielai Zhang\n",
    "\n",
    "## Learning Goals:\n",
    "- Find time now in Python\n",
    "- Learn how to define parameters for a telescope observatory in Python\n",
    "- Learn how to find out sunset, sunrise, moonset and moonrise times for the telescope observatory in Python\n",
    "- Change date time in string format to datetime format\n",
    "- Plot verticle lines with time on the x-axis\n",
    "\n",
    "## Keywords\n",
    "Astroplan, observing preparation\n",
    "\n",
    "## Summary\n",
    "This tutorial describes how to get the location information for an observatory, get the position information for an object in the sky and find out what time it will rise on a given date. The exercise will be done using Universal Time."
   ]
  },
  {
   "cell_type": "code",
   "execution_count": 1,
   "metadata": {},
   "outputs": [],
   "source": [
    "from astropy.time import Time\n",
    "from astroplan import download_IERS_A \n",
    "from astropy.coordinates import EarthLocation\n",
    "from astroplan import Observer\n",
    "import matplotlib\n",
    "import matplotlib.pyplot as plt\n",
    "from datetime import datetime"
   ]
  },
  {
   "cell_type": "markdown",
   "metadata": {},
   "source": [
    "### Question 1\n",
    "What is your name? Print it out."
   ]
  },
  {
   "cell_type": "code",
   "execution_count": 2,
   "metadata": {},
   "outputs": [
    {
     "name": "stdout",
     "output_type": "stream",
     "text": [
      "My name is Honoré Mbaya\n"
     ]
    }
   ],
   "source": [
    "# Fill in this cell with your name, and print out your name using the print statement.\n",
    "applicant_name = 'Honoré Mbaya'\n",
    "print('My name is',applicant_name)"
   ]
  },
  {
   "cell_type": "markdown",
   "metadata": {},
   "source": [
    "### What is the current UTC?"
   ]
  },
  {
   "cell_type": "code",
   "execution_count": 3,
   "metadata": {},
   "outputs": [
    {
     "name": "stdout",
     "output_type": "stream",
     "text": [
      "2020-10-23 21:54:58.297838\n",
      "2020.8112381823594\n"
     ]
    }
   ],
   "source": [
    "now = Time.now()\n",
    "print(now)\n",
    "print(now.decimalyear)"
   ]
  },
  {
   "cell_type": "markdown",
   "metadata": {},
   "source": [
    "### How much time has passed since WAISSYA 2019 (WAISSYA is now named PASEA)"
   ]
  },
  {
   "cell_type": "code",
   "execution_count": 4,
   "metadata": {},
   "outputs": [
    {
     "name": "stdout",
     "output_type": "stream",
     "text": [
      "356.91317474349535 days\n"
     ]
    }
   ],
   "source": [
    "time_pasea2019 = Time(\"2019-11-02\", format='iso')\n",
    "time_passed    = now-time_pasea2019\n",
    "print(time_passed,'days')"
   ]
  },
  {
   "cell_type": "markdown",
   "metadata": {},
   "source": [
    "### Check to see what observatories are available in the \"EarthLocation\" database."
   ]
  },
  {
   "cell_type": "code",
   "execution_count": 5,
   "metadata": {},
   "outputs": [
    {
     "name": "stdout",
     "output_type": "stream",
     "text": [
      "['', '', '', 'ALMA', 'ATST', 'Anglo-Australian Observatory', 'Apache Point', 'Apache Point Observatory', 'Atacama Large Millimeter Array', 'BAO', 'BBSO', 'Beijing XingLong Observatory', 'Black Moshannon Observatory', 'CHARA', 'Canada-France-Hawaii Telescope', 'Catalina Observatory', 'Cerro Pachon', 'Cerro Paranal', 'Cerro Tololo', 'Cerro Tololo Interamerican Observatory', 'DCT', 'DKIST', 'Discovery Channel Telescope', 'Dominion Astrophysical Observatory', 'GBT', 'Gemini South', 'Green Bank Telescope', 'Hale Telescope', 'Haleakala Observatories', 'Happy Jack', 'IAO', 'JCMT', 'James Clerk Maxwell Telescope', 'Jansky Very Large Array', 'Keck Observatory', 'Kitt Peak', 'Kitt Peak National Observatory', 'La Silla Observatory', 'Large Binocular Telescope', 'Las Campanas Observatory', 'Lick Observatory', 'Lowell Observatory', 'MWA', 'Manastash Ridge Observatory', 'McDonald Observatory', 'Medicina', 'Medicina Dish', 'Michigan-Dartmouth-MIT Observatory', 'Mount Graham International Observatory', 'Mt Graham', 'Mt. Ekar 182 cm. Telescope', 'Mt. Stromlo Observatory', 'Multiple Mirror Telescope', 'Murchison Widefield Array', 'NOV', 'NST', 'National Observatory of Venezuela', 'Noto', 'Observatorio Astronomico Nacional, San Pedro Martir', 'Observatorio Astronomico Nacional, Tonantzintla', 'Palomar', 'Paranal Observatory', 'Roque de los Muchachos', 'SAAO', 'SALT', 'SPO', 'SRT', 'Sac Peak', 'Sacramento Peak', 'Siding Spring Observatory', 'Southern African Large Telescope', 'Subaru', 'Subaru Telescope', 'Sunspot', 'Sutherland', 'TUG', 'UKIRT', 'United Kingdom Infrared Telescope', 'Vainu Bappu Observatory', 'Very Large Array', 'W. M. Keck Observatory', 'Whipple', 'Whipple Observatory', 'aao', 'alma', 'apo', 'bbso', 'bmo', 'cfht', 'ctio', 'dao', 'dct', 'dkist', 'ekar', 'example_site', 'flwo', 'gbt', 'gemini_north', 'gemini_south', 'gemn', 'gems', 'greenwich', 'haleakala', 'iao', 'irtf', 'jcmt', 'keck', 'kpno', 'lapalma', 'lasilla', 'lbt', 'lco', 'lick', 'lowell', 'mcdonald', 'mdm', 'medicina', 'mmt', 'mro', 'mso', 'mtbigelow', 'mwa', 'mwo', 'noto', 'ohp', 'paranal', 'salt', 'sirene', 'spm', 'spo', 'srt', 'sso', 'tona', 'tug', 'ukirt', 'vbo', 'vla']\n"
     ]
    }
   ],
   "source": [
    "print((EarthLocation.get_site_names()))"
   ]
  },
  {
   "cell_type": "markdown",
   "metadata": {},
   "source": [
    "### Setting up observatory location"
   ]
  },
  {
   "cell_type": "code",
   "execution_count": 6,
   "metadata": {},
   "outputs": [],
   "source": [
    "location  = EarthLocation.of_site(\"Cerro Tololo\")\n",
    "CerroTololo = Observer(location = location, timezone = 'America/Santiago',\n",
    "                             name = \"CT\", description = \"Cerro Tololo Telescope\")"
   ]
  },
  {
   "cell_type": "markdown",
   "metadata": {},
   "source": [
    "### Question 2\n",
    "What is the Longtitude, Latitutde and Elevation of the Cerro Tololo Telescope as specified here?"
   ]
  },
  {
   "cell_type": "code",
   "execution_count": 7,
   "metadata": {},
   "outputs": [
    {
     "name": "stdout",
     "output_type": "stream",
     "text": [
      "Longitude : -70d48m54s\n",
      "Latitude : -30d09m55s\n",
      "Elevation : 2214.9999999993697 m\n"
     ]
    }
   ],
   "source": [
    "# Fill in this cell to print the Longitude, Latitutde and Elevation inforamtion of the Cerro Tololo Telescope\n",
    "# I have not told you how to do this, have a think and try printing a few things until it works. \n",
    "# You are free to do searches on google, though it may take longer than just trying to print things until it works.\n",
    "print(\"Longitude :\", location.lon)\n",
    "print(\"Latitude :\", location.lat)\n",
    "print(\"Elevation :\", location.height)"
   ]
  },
  {
   "cell_type": "code",
   "execution_count": 8,
   "metadata": {},
   "outputs": [],
   "source": [
    "download_IERS_A()"
   ]
  },
  {
   "cell_type": "markdown",
   "metadata": {},
   "source": [
    "\n",
    "### Sunset, Sunrise, Midnight"
   ]
  },
  {
   "cell_type": "code",
   "execution_count": 9,
   "metadata": {},
   "outputs": [
    {
     "name": "stdout",
     "output_type": "stream",
     "text": [
      "Tests:\n",
      "2459146.455138187\n",
      "2020-10-23 22:55:23.939\n",
      "\n",
      "Sunset and Sunrise:\n",
      "Sunset at Cerro Tololo will be at 2020-10-23 22:55:23.939 UTC\n",
      "Sunrise at Cerro Tololo will be at 2020-10-24 09:59:05.110 UTC\n"
     ]
    }
   ],
   "source": [
    "# Calculating the sunset, sunrise times for our observatory \n",
    "sunset_CT = CerroTololo.sun_set_time(now, which='nearest')\n",
    "sunrise_CT = CerroTololo.sun_rise_time(now, which='next')\n",
    "\n",
    "# Print sunset_CT and sunset_CT.iso to see what the difference is\n",
    "print('Tests:')\n",
    "print(sunset_CT)\n",
    "print(sunset_CT.iso)\n",
    "print('')\n",
    "\n",
    "# Print out the sunset and sunrise times in the nicer way.\n",
    "print('Sunset and Sunrise:')\n",
    "print(\"Sunset at Cerro Tololo will be at {0.iso} UTC\".format(sunset_CT))\n",
    "print(\"Sunrise at Cerro Tololo will be at {0.iso} UTC\".format(sunrise_CT))"
   ]
  },
  {
   "cell_type": "markdown",
   "metadata": {},
   "source": [
    "### Question 3\n",
    "Find the effective length of time (in hours) between sunset and sunrise in Cerre Tololo tonight."
   ]
  },
  {
   "cell_type": "code",
   "execution_count": 10,
   "metadata": {},
   "outputs": [
    {
     "name": "stdout",
     "output_type": "stream",
     "text": [
      "11:03:41.170208\n"
     ]
    }
   ],
   "source": [
    "# Fill in this cell to print number of hours between sunset and sunrise during the next night in Cerro Tololo.\n",
    "# I have not told you how to do this, have a think and try printing a few things until it works. \n",
    "# You are free to do searches on google, though it may take longer than just trying to print things until it works.\n",
    "print(sunrise_CT.datetime - sunset_CT.datetime)"
   ]
  },
  {
   "cell_type": "markdown",
   "metadata": {},
   "source": [
    "### Question 4\n",
    "What is the moonrise and moonset time in Cerro Tololo?"
   ]
  },
  {
   "cell_type": "code",
   "execution_count": 11,
   "metadata": {},
   "outputs": [
    {
     "name": "stdout",
     "output_type": "stream",
     "text": [
      "Moonrise and Moonset:\n",
      "Moonrise at Cerro Tololo will be at 2020-10-24 17:00:38.689 UTC\n",
      "Moonset at Cerro Tololo will be at 2020-10-24 06:11:40.114 UTC\n"
     ]
    }
   ],
   "source": [
    "# Fill in this cell to print out the next moonrise and moon\n",
    "# set time in Cerro Tololo\n",
    "moonrise_CT = CerroTololo.moon_rise_time(now, which='next')\n",
    "moonset_CT = CerroTololo.moon_set_time(now, which='next')\n",
    "\n",
    "print('Moonrise and Moonset:')\n",
    "print(\"Moonrise at Cerro Tololo will be at {0.iso} UTC\".format(moonrise_CT))\n",
    "print(\"Moonset at Cerro Tololo will be at {0.iso} UTC\".format(moonset_CT))"
   ]
  },
  {
   "cell_type": "markdown",
   "metadata": {},
   "source": [
    "### Question 5 (a)\n",
    "Turn sunset_CT, sunrise_CT, moonset_CT and moonrise_CT into datetime objects. "
   ]
  },
  {
   "cell_type": "code",
   "execution_count": 12,
   "metadata": {},
   "outputs": [
    {
     "name": "stdout",
     "output_type": "stream",
     "text": [
      "<class 'datetime.datetime'>\n"
     ]
    }
   ],
   "source": [
    "sunset_CT = sunrise_CT.tt.datetime\n",
    "sunrise_CT = sunrise_CT.tt.datetime\n",
    "moonset_CT = moonset_CT.tt.datetime\n",
    "moonrise_CT = moonrise_CT.tt.datetime\n",
    "print(type(moonrise_CT))"
   ]
  },
  {
   "cell_type": "markdown",
   "metadata": {},
   "source": [
    "### Question 5 (b)\n",
    "Plot the sunset, sunrise, moonset, moonrise times on a plot as verticle lines of different colours. Inlcude a legend, plot title and x-axis label. You are free to set the y-axis range as you like."
   ]
  },
  {
   "cell_type": "code",
   "execution_count": 13,
   "metadata": {},
   "outputs": [],
   "source": [
    "xcoords = [sunset_CT, sunrise_CT, moonset_CT, moonrise_CT]\n",
    "#ycoords = [45372, 48876, 53850, 57287]\n",
    "colors = ['r','k','b', 'g']\n",
    "labels = [\"Sunset\", \"Sunrise\", \"Moonset\", \"Moonrise\"]"
   ]
  },
  {
   "cell_type": "code",
   "execution_count": 15,
   "metadata": {},
   "outputs": [
    {
     "data": {
      "image/png": "[encoded data removed]",
      "text/plain": [
       "<Figure size 432x288 with 1 Axes>"
      ]
     },
     "metadata": {
      "needs_background": "light"
     },
     "output_type": "display_data"
    }
   ],
   "source": [
    "for xc,c, l in zip(xcoords,colors, labels):\n",
    "    plt.axvline(x=xc, label='{} = {}'.format(l, xc), c=c)\n",
    "plt.xlabel('Time')\n",
    "plt.title('Set and Rise Times')\n",
    "plt.legend(loc = 'upper right')\n",
    "plt.show()"
   ]
  }
 ],
 "metadata": {
  "kernelspec": {
   "display_name": "Python 3",
   "language": "python",
   "name": "python3"
  },
  "language_info": {
   "codemirror_mode": {
    "name": "ipython",
    "version": 3
   },
   "file_extension": ".py",
   "mimetype": "text/x-python",
   "name": "python",
   "nbconvert_exporter": "python",
   "pygments_lexer": "ipython3",
   "version": "3.7.8"
  }
 },
 "nbformat": 4,
 "nbformat_minor": 2
}
